{
  "nbformat": 4,
  "nbformat_minor": 0,
  "metadata": {
    "kernelspec": {
      "display_name": "Python 3",
      "language": "python",
      "name": "python3"
    },
    "language_info": {
      "codemirror_mode": {
        "name": "ipython",
        "version": 3
      },
      "file_extension": ".py",
      "mimetype": "text/x-python",
      "name": "python",
      "nbconvert_exporter": "python",
      "pygments_lexer": "ipython3",
      "version": "3.7.0"
    },
    "colab": {
      "name": "Exercises.ipynb",
      "provenance": []
    }
  },
  "cells": [
    {
      "cell_type": "markdown",
      "metadata": {
        "id": "VNN7El2ErGjP"
      },
      "source": [
        "# Online Retails Purchase"
      ]
    },
    {
      "cell_type": "markdown",
      "metadata": {
        "id": "lMFTr7dorGjR"
      },
      "source": [
        "### Introduction:\n",
        "\n",
        "\n",
        "\n",
        "### Step 1. Import the necessary libraries"
      ]
    },
    {
      "cell_type": "code",
      "metadata": {
        "id": "g_dyI2VHrGjT"
      },
      "source": [
        "import pandas as pd"
      ],
      "execution_count": 1,
      "outputs": []
    },
    {
      "cell_type": "markdown",
      "metadata": {
        "id": "mYM3FV0erGjc"
      },
      "source": [
        "### Step 2. Import the dataset from this [address](https://raw.githubusercontent.com/guipsamora/pandas_exercises/master/07_Visualization/Online_Retail/Online_Retail.csv). "
      ]
    },
    {
      "cell_type": "code",
      "metadata": {
        "id": "vDKj7VfbrNst",
        "outputId": "5899a7c6-81eb-4318-b2ea-a2b3b878531a",
        "colab": {
          "base_uri": "https://localhost:8080/",
          "height": 224
        }
      },
      "source": [
        "!wget https://raw.githubusercontent.com/guipsamora/pandas_exercises/master/07_Visualization/Online_Retail/Online_Retail.csv"
      ],
      "execution_count": 2,
      "outputs": [
        {
          "output_type": "stream",
          "text": [
            "--2020-10-23 04:17:25--  https://raw.githubusercontent.com/guipsamora/pandas_exercises/master/07_Visualization/Online_Retail/Online_Retail.csv\n",
            "Resolving raw.githubusercontent.com (raw.githubusercontent.com)... 151.101.0.133, 151.101.64.133, 151.101.128.133, ...\n",
            "Connecting to raw.githubusercontent.com (raw.githubusercontent.com)|151.101.0.133|:443... connected.\n",
            "HTTP request sent, awaiting response... 200 OK\n",
            "Length: 43954909 (42M) [text/plain]\n",
            "Saving to: ‘Online_Retail.csv’\n",
            "\n",
            "Online_Retail.csv   100%[===================>]  41.92M  34.4MB/s    in 1.2s    \n",
            "\n",
            "2020-10-23 04:17:27 (34.4 MB/s) - ‘Online_Retail.csv’ saved [43954909/43954909]\n",
            "\n"
          ],
          "name": "stdout"
        }
      ]
    },
    {
      "cell_type": "markdown",
      "metadata": {
        "id": "yguHdOBGrGje"
      },
      "source": [
        "### Step 3. Assign it to a variable called online_rt\n",
        "Note: if you receive a utf-8 decode error, set `encoding = 'latin1'` in `pd.read_csv()`."
      ]
    },
    {
      "cell_type": "code",
      "metadata": {
        "id": "stPpH_NvrGjf",
        "outputId": "cc3cc66b-aec9-41bc-fb6b-3a379d5e5741",
        "colab": {
          "base_uri": "https://localhost:8080/",
          "height": 204
        }
      },
      "source": [
        "online_rt = pd.read_csv('Online_Retail.csv', encoding='latin1')\n",
        "online_rt.head()"
      ],
      "execution_count": 5,
      "outputs": [
        {
          "output_type": "execute_result",
          "data": {
            "text/html": [
              "<div>\n",
              "<style scoped>\n",
              "    .dataframe tbody tr th:only-of-type {\n",
              "        vertical-align: middle;\n",
              "    }\n",
              "\n",
              "    .dataframe tbody tr th {\n",
              "        vertical-align: top;\n",
              "    }\n",
              "\n",
              "    .dataframe thead th {\n",
              "        text-align: right;\n",
              "    }\n",
              "</style>\n",
              "<table border=\"1\" class=\"dataframe\">\n",
              "  <thead>\n",
              "    <tr style=\"text-align: right;\">\n",
              "      <th></th>\n",
              "      <th>InvoiceNo</th>\n",
              "      <th>StockCode</th>\n",
              "      <th>Description</th>\n",
              "      <th>Quantity</th>\n",
              "      <th>InvoiceDate</th>\n",
              "      <th>UnitPrice</th>\n",
              "      <th>CustomerID</th>\n",
              "      <th>Country</th>\n",
              "    </tr>\n",
              "  </thead>\n",
              "  <tbody>\n",
              "    <tr>\n",
              "      <th>0</th>\n",
              "      <td>536365</td>\n",
              "      <td>85123A</td>\n",
              "      <td>WHITE HANGING HEART T-LIGHT HOLDER</td>\n",
              "      <td>6</td>\n",
              "      <td>12/1/10 8:26</td>\n",
              "      <td>2.55</td>\n",
              "      <td>17850.0</td>\n",
              "      <td>United Kingdom</td>\n",
              "    </tr>\n",
              "    <tr>\n",
              "      <th>1</th>\n",
              "      <td>536365</td>\n",
              "      <td>71053</td>\n",
              "      <td>WHITE METAL LANTERN</td>\n",
              "      <td>6</td>\n",
              "      <td>12/1/10 8:26</td>\n",
              "      <td>3.39</td>\n",
              "      <td>17850.0</td>\n",
              "      <td>United Kingdom</td>\n",
              "    </tr>\n",
              "    <tr>\n",
              "      <th>2</th>\n",
              "      <td>536365</td>\n",
              "      <td>84406B</td>\n",
              "      <td>CREAM CUPID HEARTS COAT HANGER</td>\n",
              "      <td>8</td>\n",
              "      <td>12/1/10 8:26</td>\n",
              "      <td>2.75</td>\n",
              "      <td>17850.0</td>\n",
              "      <td>United Kingdom</td>\n",
              "    </tr>\n",
              "    <tr>\n",
              "      <th>3</th>\n",
              "      <td>536365</td>\n",
              "      <td>84029G</td>\n",
              "      <td>KNITTED UNION FLAG HOT WATER BOTTLE</td>\n",
              "      <td>6</td>\n",
              "      <td>12/1/10 8:26</td>\n",
              "      <td>3.39</td>\n",
              "      <td>17850.0</td>\n",
              "      <td>United Kingdom</td>\n",
              "    </tr>\n",
              "    <tr>\n",
              "      <th>4</th>\n",
              "      <td>536365</td>\n",
              "      <td>84029E</td>\n",
              "      <td>RED WOOLLY HOTTIE WHITE HEART.</td>\n",
              "      <td>6</td>\n",
              "      <td>12/1/10 8:26</td>\n",
              "      <td>3.39</td>\n",
              "      <td>17850.0</td>\n",
              "      <td>United Kingdom</td>\n",
              "    </tr>\n",
              "  </tbody>\n",
              "</table>\n",
              "</div>"
            ],
            "text/plain": [
              "  InvoiceNo StockCode  ... CustomerID         Country\n",
              "0    536365    85123A  ...    17850.0  United Kingdom\n",
              "1    536365     71053  ...    17850.0  United Kingdom\n",
              "2    536365    84406B  ...    17850.0  United Kingdom\n",
              "3    536365    84029G  ...    17850.0  United Kingdom\n",
              "4    536365    84029E  ...    17850.0  United Kingdom\n",
              "\n",
              "[5 rows x 8 columns]"
            ]
          },
          "metadata": {
            "tags": []
          },
          "execution_count": 5
        }
      ]
    },
    {
      "cell_type": "markdown",
      "metadata": {
        "id": "GdGZ_xsGrGjj"
      },
      "source": [
        "### Step 4. Create a histogram with the 10 countries that have the most 'Quantity' ordered except UK"
      ]
    },
    {
      "cell_type": "code",
      "metadata": {
        "id": "l5lEYabkrGjl",
        "outputId": "09aa0b2e-0443-4f5c-fac5-1d5dca811e2b",
        "colab": {
          "base_uri": "https://localhost:8080/",
          "height": 390
        }
      },
      "source": [
        "Top_10_Cntry_byOrder = online_rt.groupby(['Country'])[['Quantity']].sum().sort_values('Quantity',ascending=False).drop('United Kingdom', axis=0).head(10)\n",
        "Top_10_Cntry_byOrder"
      ],
      "execution_count": 30,
      "outputs": [
        {
          "output_type": "execute_result",
          "data": {
            "text/html": [
              "<div>\n",
              "<style scoped>\n",
              "    .dataframe tbody tr th:only-of-type {\n",
              "        vertical-align: middle;\n",
              "    }\n",
              "\n",
              "    .dataframe tbody tr th {\n",
              "        vertical-align: top;\n",
              "    }\n",
              "\n",
              "    .dataframe thead th {\n",
              "        text-align: right;\n",
              "    }\n",
              "</style>\n",
              "<table border=\"1\" class=\"dataframe\">\n",
              "  <thead>\n",
              "    <tr style=\"text-align: right;\">\n",
              "      <th></th>\n",
              "      <th>Quantity</th>\n",
              "    </tr>\n",
              "    <tr>\n",
              "      <th>Country</th>\n",
              "      <th></th>\n",
              "    </tr>\n",
              "  </thead>\n",
              "  <tbody>\n",
              "    <tr>\n",
              "      <th>Netherlands</th>\n",
              "      <td>200128</td>\n",
              "    </tr>\n",
              "    <tr>\n",
              "      <th>EIRE</th>\n",
              "      <td>142637</td>\n",
              "    </tr>\n",
              "    <tr>\n",
              "      <th>Germany</th>\n",
              "      <td>117448</td>\n",
              "    </tr>\n",
              "    <tr>\n",
              "      <th>France</th>\n",
              "      <td>110480</td>\n",
              "    </tr>\n",
              "    <tr>\n",
              "      <th>Australia</th>\n",
              "      <td>83653</td>\n",
              "    </tr>\n",
              "    <tr>\n",
              "      <th>Sweden</th>\n",
              "      <td>35637</td>\n",
              "    </tr>\n",
              "    <tr>\n",
              "      <th>Switzerland</th>\n",
              "      <td>30325</td>\n",
              "    </tr>\n",
              "    <tr>\n",
              "      <th>Spain</th>\n",
              "      <td>26824</td>\n",
              "    </tr>\n",
              "    <tr>\n",
              "      <th>Japan</th>\n",
              "      <td>25218</td>\n",
              "    </tr>\n",
              "    <tr>\n",
              "      <th>Belgium</th>\n",
              "      <td>23152</td>\n",
              "    </tr>\n",
              "  </tbody>\n",
              "</table>\n",
              "</div>"
            ],
            "text/plain": [
              "             Quantity\n",
              "Country              \n",
              "Netherlands    200128\n",
              "EIRE           142637\n",
              "Germany        117448\n",
              "France         110480\n",
              "Australia       83653\n",
              "Sweden          35637\n",
              "Switzerland     30325\n",
              "Spain           26824\n",
              "Japan           25218\n",
              "Belgium         23152"
            ]
          },
          "metadata": {
            "tags": []
          },
          "execution_count": 30
        }
      ]
    },
    {
      "cell_type": "code",
      "metadata": {
        "id": "-6I0BWPEtzqM",
        "outputId": "c1c5574e-397f-4307-85d0-83a4d7f34d05",
        "colab": {
          "base_uri": "https://localhost:8080/",
          "height": 347
        }
      },
      "source": [
        "Top_10_Cntry_byOrder.plot(kind='bar')"
      ],
      "execution_count": 38,
      "outputs": [
        {
          "output_type": "execute_result",
          "data": {
            "text/plain": [
              "<matplotlib.axes._subplots.AxesSubplot at 0x7fd3078cd2b0>"
            ]
          },
          "metadata": {
            "tags": []
          },
          "execution_count": 38
        },
        {
          "output_type": "display_data",
          "data": {
            "image/png": "[encoded data removed]",
            "text/plain": [
              "<Figure size 432x288 with 1 Axes>"
            ]
          },
          "metadata": {
            "tags": [],
            "needs_background": "light"
          }
        }
      ]
    },
    {
      "cell_type": "markdown",
      "metadata": {
        "id": "L7gRxsP_rGjq"
      },
      "source": [
        "### Step 5.  Exclude negative Quantity entries"
      ]
    },
    {
      "cell_type": "code",
      "metadata": {
        "id": "YFl8pHv3rGjr",
        "outputId": "e857f93d-10be-4592-bb0b-3b0f667aa978",
        "colab": {
          "base_uri": "https://localhost:8080/",
          "height": 34
        }
      },
      "source": [
        "# How many?\n",
        "print(round(sum(online_rt['Quantity']<0)/len(online_rt['Quantity'])*100,2), \"%\")"
      ],
      "execution_count": 46,
      "outputs": [
        {
          "output_type": "stream",
          "text": [
            "1.96 %\n"
          ],
          "name": "stdout"
        }
      ]
    },
    {
      "cell_type": "code",
      "metadata": {
        "id": "ipRpFzCuu6pk",
        "outputId": "5f3833bf-1daa-45d7-8797-4da44323f8d7",
        "colab": {
          "base_uri": "https://localhost:8080/",
          "height": 34
        }
      },
      "source": [
        "online_rt = online_rt[online_rt['Quantity']>=0]\n",
        "print(round(sum(online_rt['Quantity']<0)/len(online_rt['Quantity'])*100,2), \"%\")"
      ],
      "execution_count": 49,
      "outputs": [
        {
          "output_type": "stream",
          "text": [
            "0.0 %\n"
          ],
          "name": "stdout"
        }
      ]
    },
    {
      "cell_type": "markdown",
      "metadata": {
        "id": "KLw3BijnrGjy"
      },
      "source": [
        "### Step 6. Create a scatterplot of the Quantity vs. UnitPrice by CustomerID for the top 3 Countries (except UK)\n",
        "\n",
        "\n",
        "This will help us deduce what type of customers do we have in terms of quantity-price for top 3 sales heavy countries:\n",
        "\n",
        "\n",
        "*   Low cost, Low Qty => Useless (non-value, less buyers)\n",
        "*   Low cost, High Qty => Lost cost-item Bulkers or Discount grabbers\n",
        "*   High cost, High Qty => Valuable members\n",
        "\n",
        "\n",
        "\n"
      ]
    },
    {
      "cell_type": "code",
      "metadata": {
        "id": "VOSu56IarGjz",
        "outputId": "662d2962-7665-431d-c4e8-e67e6edc3f1b",
        "colab": {
          "base_uri": "https://localhost:8080/",
          "height": 34
        }
      },
      "source": [
        "#List of Top 3 countries by order\n",
        "Top_3_Cntry_byOrder_list = Top_10_Cntry_byOrder.head(3).index.to_list()\n",
        "Top_3_Cntry_byOrder_list"
      ],
      "execution_count": 55,
      "outputs": [
        {
          "output_type": "execute_result",
          "data": {
            "text/plain": [
              "['Netherlands', 'EIRE', 'Germany']"
            ]
          },
          "metadata": {
            "tags": []
          },
          "execution_count": 55
        }
      ]
    },
    {
      "cell_type": "code",
      "metadata": {
        "id": "Uv0JcBI2v5NW",
        "outputId": "e6cd64de-6ca3-4a54-9312-3858202eee9f",
        "colab": {
          "base_uri": "https://localhost:8080/",
          "height": 419
        }
      },
      "source": [
        "Top_3_Cntry_byOrder_Qty_Price_byCust = online_rt[online_rt['Country'].isin(Top_3_Cntry_byOrder_list)].groupby(['Country', 'CustomerID'])[['Quantity', 'UnitPrice']].sum().reset_index()\n",
        "Top_3_Cntry_byOrder_Qty_Price_byCust"
      ],
      "execution_count": 81,
      "outputs": [
        {
          "output_type": "execute_result",
          "data": {
            "text/html": [
              "<div>\n",
              "<style scoped>\n",
              "    .dataframe tbody tr th:only-of-type {\n",
              "        vertical-align: middle;\n",
              "    }\n",
              "\n",
              "    .dataframe tbody tr th {\n",
              "        vertical-align: top;\n",
              "    }\n",
              "\n",
              "    .dataframe thead th {\n",
              "        text-align: right;\n",
              "    }\n",
              "</style>\n",
              "<table border=\"1\" class=\"dataframe\">\n",
              "  <thead>\n",
              "    <tr style=\"text-align: right;\">\n",
              "      <th></th>\n",
              "      <th>Country</th>\n",
              "      <th>CustomerID</th>\n",
              "      <th>Quantity</th>\n",
              "      <th>UnitPrice</th>\n",
              "    </tr>\n",
              "  </thead>\n",
              "  <tbody>\n",
              "    <tr>\n",
              "      <th>0</th>\n",
              "      <td>EIRE</td>\n",
              "      <td>14016.0</td>\n",
              "      <td>2125</td>\n",
              "      <td>635.88</td>\n",
              "    </tr>\n",
              "    <tr>\n",
              "      <th>1</th>\n",
              "      <td>EIRE</td>\n",
              "      <td>14156.0</td>\n",
              "      <td>57885</td>\n",
              "      <td>5357.68</td>\n",
              "    </tr>\n",
              "    <tr>\n",
              "      <th>2</th>\n",
              "      <td>EIRE</td>\n",
              "      <td>14911.0</td>\n",
              "      <td>80515</td>\n",
              "      <td>26185.72</td>\n",
              "    </tr>\n",
              "    <tr>\n",
              "      <th>3</th>\n",
              "      <td>Germany</td>\n",
              "      <td>12426.0</td>\n",
              "      <td>258</td>\n",
              "      <td>118.09</td>\n",
              "    </tr>\n",
              "    <tr>\n",
              "      <th>4</th>\n",
              "      <td>Germany</td>\n",
              "      <td>12427.0</td>\n",
              "      <td>533</td>\n",
              "      <td>142.26</td>\n",
              "    </tr>\n",
              "    <tr>\n",
              "      <th>...</th>\n",
              "      <td>...</td>\n",
              "      <td>...</td>\n",
              "      <td>...</td>\n",
              "      <td>...</td>\n",
              "    </tr>\n",
              "    <tr>\n",
              "      <th>101</th>\n",
              "      <td>Netherlands</td>\n",
              "      <td>12789.0</td>\n",
              "      <td>4</td>\n",
              "      <td>91.85</td>\n",
              "    </tr>\n",
              "    <tr>\n",
              "      <th>102</th>\n",
              "      <td>Netherlands</td>\n",
              "      <td>12790.0</td>\n",
              "      <td>166</td>\n",
              "      <td>82.92</td>\n",
              "    </tr>\n",
              "    <tr>\n",
              "      <th>103</th>\n",
              "      <td>Netherlands</td>\n",
              "      <td>12791.0</td>\n",
              "      <td>97</td>\n",
              "      <td>16.85</td>\n",
              "    </tr>\n",
              "    <tr>\n",
              "      <th>104</th>\n",
              "      <td>Netherlands</td>\n",
              "      <td>12802.0</td>\n",
              "      <td>314</td>\n",
              "      <td>63.00</td>\n",
              "    </tr>\n",
              "    <tr>\n",
              "      <th>105</th>\n",
              "      <td>Netherlands</td>\n",
              "      <td>14646.0</td>\n",
              "      <td>197491</td>\n",
              "      <td>5176.09</td>\n",
              "    </tr>\n",
              "  </tbody>\n",
              "</table>\n",
              "<p>106 rows × 4 columns</p>\n",
              "</div>"
            ],
            "text/plain": [
              "         Country  CustomerID  Quantity  UnitPrice\n",
              "0           EIRE     14016.0      2125     635.88\n",
              "1           EIRE     14156.0     57885    5357.68\n",
              "2           EIRE     14911.0     80515   26185.72\n",
              "3        Germany     12426.0       258     118.09\n",
              "4        Germany     12427.0       533     142.26\n",
              "..           ...         ...       ...        ...\n",
              "101  Netherlands     12789.0         4      91.85\n",
              "102  Netherlands     12790.0       166      82.92\n",
              "103  Netherlands     12791.0        97      16.85\n",
              "104  Netherlands     12802.0       314      63.00\n",
              "105  Netherlands     14646.0    197491    5176.09\n",
              "\n",
              "[106 rows x 4 columns]"
            ]
          },
          "metadata": {
            "tags": []
          },
          "execution_count": 81
        }
      ]
    },
    {
      "cell_type": "code",
      "metadata": {
        "id": "2i3NtHM11Dsu",
        "outputId": "ffb4e87f-da50-4a65-cf18-8cda0a6c6032",
        "colab": {
          "base_uri": "https://localhost:8080/",
          "height": 296
        }
      },
      "source": [
        "#Together\n",
        "Top_3_Cntry_byOrder_Qty_Price_byCust.plot('Quantity', 'UnitPrice', kind='scatter')"
      ],
      "execution_count": 82,
      "outputs": [
        {
          "output_type": "execute_result",
          "data": {
            "text/plain": [
              "<matplotlib.axes._subplots.AxesSubplot at 0x7fd30624d0f0>"
            ]
          },
          "metadata": {
            "tags": []
          },
          "execution_count": 82
        },
        {
          "output_type": "display_data",
          "data": {
            "image/png": "[encoded data removed]",
            "text/plain": [
              "<Figure size 432x288 with 1 Axes>"
            ]
          },
          "metadata": {
            "tags": [],
            "needs_background": "light"
          }
        }
      ]
    },
    {
      "cell_type": "code",
      "metadata": {
        "id": "ZrYMclj-10Pt",
        "outputId": "01938f31-8bcb-4984-e7a4-dc5ec7c1d9d6",
        "colab": {
          "base_uri": "https://localhost:8080/",
          "height": 851
        }
      },
      "source": [
        "#Separately for 3 countries\n",
        "for c in Top_3_Cntry_byOrder_list:\n",
        "  Top_3_Cntry_byOrder_Qty_Price_byCust[Top_3_Cntry_byOrder_Qty_Price_byCust['Country']==c].plot('Quantity', 'UnitPrice', kind='scatter', title=c)\n"
      ],
      "execution_count": 85,
      "outputs": [
        {
          "output_type": "display_data",
          "data": {
            "image/png": "[encoded data removed]",
            "text/plain": [
              "<Figure size 432x288 with 1 Axes>"
            ]
          },
          "metadata": {
            "tags": [],
            "needs_background": "light"
          }
        },
        {
          "output_type": "display_data",
          "data": {
            "image/png": "[encoded data removed]",
            "text/plain": [
              "<Figure size 432x288 with 1 Axes>"
            ]
          },
          "metadata": {
            "tags": [],
            "needs_background": "light"
          }
        },
        {
          "output_type": "display_data",
          "data": {
            "image/png": "[encoded data removed]",
            "text/plain": [
              "<Figure size 432x288 with 1 Axes>"
            ]
          },
          "metadata": {
            "tags": [],
            "needs_background": "light"
          }
        }
      ]
    },
    {
      "cell_type": "markdown",
      "metadata": {
        "id": "tqEf4NItwlZK"
      },
      "source": [
        ""
      ]
    },
    {
      "cell_type": "markdown",
      "metadata": {
        "id": "GPJw8SLPrGj6"
      },
      "source": [
        "### Step 7. Investigate why the previous results look so uninformative.\n",
        "\n",
        "This section might seem a bit tedious to go through. But I've thought of it as some kind of a simulation of problems one might encounter when dealing with data and other people. Besides there is a prize at the end (i.e. Section 8).\n",
        "\n",
        "(But feel free to jump right ahead into Section 8 if you want; it doesn't require that you finish this section.)\n",
        "\n",
        "#### Step 7.1 Look at the first line of code in Step 6. And try to figure out if it leads to any kind of problem.\n",
        "##### Step 7.1.1 Display the first few rows of that DataFrame."
      ]
    },
    {
      "cell_type": "code",
      "metadata": {
        "id": "d9_E_XmcrGj7"
      },
      "source": [
        ""
      ],
      "execution_count": null,
      "outputs": []
    },
    {
      "cell_type": "markdown",
      "metadata": {
        "id": "RG_eBlnWrGkA"
      },
      "source": [
        "##### Step 7.1.2 Think about what that piece of code does and display the dtype of `UnitPrice`"
      ]
    },
    {
      "cell_type": "code",
      "metadata": {
        "id": "F2i-MXPBrGkA"
      },
      "source": [
        ""
      ],
      "execution_count": null,
      "outputs": []
    },
    {
      "cell_type": "markdown",
      "metadata": {
        "id": "ukNsgXqfrGkE"
      },
      "source": [
        "##### Step 7.1.3 Pull data from `online_rt`for `CustomerID`s 12346.0 and 12347.0."
      ]
    },
    {
      "cell_type": "code",
      "metadata": {
        "id": "6vHk7y5jrGkF"
      },
      "source": [
        ""
      ],
      "execution_count": null,
      "outputs": []
    },
    {
      "cell_type": "markdown",
      "metadata": {
        "id": "iR8VGkc-rGkJ"
      },
      "source": [
        "#### Step 7.2 Reinterpreting the initial problem.\n",
        "\n",
        "To reiterate the question that we were dealing with:  \n",
        "\"Create a scatterplot with the Quantity per UnitPrice by CustomerID for the top 3 Countries\"\n",
        "\n",
        "The question is open to a set of different interpretations.\n",
        "We need to disambiguate.\n",
        "\n",
        "We could do a single plot by looking at all the data from the top 3 countries.\n",
        "Or we could do one plot per country. To keep things consistent with the rest of the exercise,\n",
        "let's stick to the latter oprion. So that's settled.\n",
        "\n",
        "But \"top 3 countries\" with respect to what? Two answers suggest themselves:\n",
        "Total sales volume (i.e. total quantity sold) or total sales (i.e. revenue).\n",
        "This exercise goes for sales volume, so let's stick to that.\n",
        "\n",
        "##### Step 7.2.1 Find out the top 3 countries in terms of sales volume."
      ]
    },
    {
      "cell_type": "code",
      "metadata": {
        "id": "uwvJgY_GrGkJ"
      },
      "source": [
        ""
      ],
      "execution_count": null,
      "outputs": []
    },
    {
      "cell_type": "markdown",
      "metadata": {
        "id": "H7je2XgrrGkN"
      },
      "source": [
        "##### Step 7.2.2 \n",
        "\n",
        "Now that we have the top 3 countries, we can focus on the rest of the problem:  \n",
        "\"Quantity per UnitPrice by CustomerID\".  \n",
        "We need to unpack that.\n",
        "\n",
        "\"by CustomerID\" part is easy. That means we're going to be plotting one dot per CustomerID's on our plot. In other words, we're going to be grouping by CustomerID.\n",
        "\n",
        "\"Quantity per UnitPrice\" is trickier. Here's what we know:  \n",
        "*One axis will represent a Quantity assigned to a given customer. This is easy; we can just plot the total  Quantity for each customer.  \n",
        "*The other axis will represent a UnitPrice assigned to a given customer. Remember a single customer can have any number of orders with different prices, so summing up prices isn't quite helpful. Besides it's not quite clear what we mean when we say \"unit price per customer\"; it sounds like price of the customer! A reasonable alternative is that we assign each customer the average amount each has paid per item. So let's settle that question in that manner.\n",
        "\n",
        "#### Step 7.3 Modify, select and plot data\n",
        "##### Step 7.3.1 Add a column to online_rt called `Revenue` calculate the revenue (Quantity * UnitPrice) from each sale.\n",
        "We will use this later to figure out an average price per customer."
      ]
    },
    {
      "cell_type": "code",
      "metadata": {
        "id": "CQtJMj8hrGkO"
      },
      "source": [
        ""
      ],
      "execution_count": null,
      "outputs": []
    },
    {
      "cell_type": "markdown",
      "metadata": {
        "id": "gUGtssO2rGkR"
      },
      "source": [
        "##### Step 7.3.2 Group by `CustomerID` and `Country` and find out the average price (`AvgPrice`) each customer spends per unit."
      ]
    },
    {
      "cell_type": "code",
      "metadata": {
        "id": "9NP1xm7crGkS"
      },
      "source": [
        ""
      ],
      "execution_count": null,
      "outputs": []
    },
    {
      "cell_type": "markdown",
      "metadata": {
        "id": "ozDY1D-DrGkY"
      },
      "source": [
        "##### Step 7.3.3 Plot"
      ]
    },
    {
      "cell_type": "code",
      "metadata": {
        "id": "7NmcKf9HrGkZ"
      },
      "source": [
        ""
      ],
      "execution_count": null,
      "outputs": []
    },
    {
      "cell_type": "markdown",
      "metadata": {
        "id": "XcKMm729rGkd"
      },
      "source": [
        "#### Step 7.4 What to do now?\n",
        "We aren't much better-off than what we started with. The data are still extremely scattered around and don't seem quite informative.\n",
        "\n",
        "But we shouldn't despair!\n",
        "There are two things to realize:\n",
        "1) The data seem to be skewed towaards the axes (e.g. we don't have any values where Quantity = 50000 and AvgPrice = 5). So that might suggest a trend.\n",
        "2) We have more data! We've only been looking at the data from 3 different countries and they are plotted on different graphs.\n",
        "\n",
        "So: we should plot the data regardless of `Country` and hopefully see a less scattered graph.\n",
        "\n",
        "##### Step 7.4.1 Plot the data for each `CustomerID` on a single graph"
      ]
    },
    {
      "cell_type": "code",
      "metadata": {
        "id": "1sBkjqyMrGke"
      },
      "source": [
        ""
      ],
      "execution_count": null,
      "outputs": []
    },
    {
      "cell_type": "markdown",
      "metadata": {
        "id": "vJuNRBe3rGkh"
      },
      "source": [
        "##### Step 7.4.2 Zoom in so we can see that curve more clearly"
      ]
    },
    {
      "cell_type": "code",
      "metadata": {
        "id": "oSkg_i_trGkk"
      },
      "source": [
        ""
      ],
      "execution_count": null,
      "outputs": []
    },
    {
      "cell_type": "markdown",
      "metadata": {
        "id": "aRyDtSx9rGkp"
      },
      "source": [
        "### 8. Plot a line chart showing revenue (y) per UnitPrice (x).\n",
        "\n",
        "Did Step 7 give us any insights about the data? Sure! As average price increases, the quantity ordered decreses.  But that's hardly surprising. It would be surprising if that wasn't the case!\n",
        "\n",
        "Nevertheless the rate of drop in quantity is so drastic, it makes me wonder how our revenue changes with respect to item price. It would not be that surprising if it didn't change that much. But it would be interesting to know whether most of our revenue comes from expensive or inexpensive items, and how that relation looks like.\n",
        "\n",
        "That is what we are going to do now.\n",
        "\n",
        "#### 8.1 Group `UnitPrice` by intervals of 1 for prices [0,50), and sum `Quantity` and `Revenue`."
      ]
    },
    {
      "cell_type": "code",
      "metadata": {
        "id": "2aVfrFzCrGkq"
      },
      "source": [
        ""
      ],
      "execution_count": null,
      "outputs": []
    },
    {
      "cell_type": "markdown",
      "metadata": {
        "id": "6BZXGWJarGku"
      },
      "source": [
        "#### 8.3 Plot."
      ]
    },
    {
      "cell_type": "code",
      "metadata": {
        "id": "saNgCFpjrGkv"
      },
      "source": [
        ""
      ],
      "execution_count": null,
      "outputs": []
    },
    {
      "cell_type": "markdown",
      "metadata": {
        "id": "Am7wQ_XHrGkz"
      },
      "source": [
        "#### 8.4 Make it look nicer.\n",
        "x-axis needs values.  \n",
        "y-axis isn't that easy to read; show in terms of millions."
      ]
    },
    {
      "cell_type": "code",
      "metadata": {
        "id": "Lx0f6Z2DrGk0"
      },
      "source": [
        ""
      ],
      "execution_count": null,
      "outputs": []
    },
    {
      "cell_type": "markdown",
      "metadata": {
        "id": "Uh7-yVBorGk7"
      },
      "source": [
        "### BONUS: Create your own question and answer it."
      ]
    },
    {
      "cell_type": "code",
      "metadata": {
        "id": "lMaTXlnzrGk8"
      },
      "source": [
        ""
      ],
      "execution_count": null,
      "outputs": []
    }
  ]
}