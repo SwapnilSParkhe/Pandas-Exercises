{
  "nbformat": 4,
  "nbformat_minor": 0,
  "metadata": {
    "anaconda-cloud": {},
    "kernelspec": {
      "display_name": "Python [default]",
      "language": "python",
      "name": "python2"
    },
    "language_info": {
      "codemirror_mode": {
        "name": "ipython",
        "version": 2
      },
      "file_extension": ".py",
      "mimetype": "text/x-python",
      "name": "python",
      "nbconvert_exporter": "python",
      "pygments_lexer": "ipython2",
      "version": "2.7.12"
    },
    "colab": {
      "name": "Exercises.ipynb",
      "provenance": []
    }
  },
  "cells": [
    {
      "cell_type": "markdown",
      "metadata": {
        "id": "4ZlgQu_uhKVo"
      },
      "source": [
        "# Apple Stock"
      ]
    },
    {
      "cell_type": "markdown",
      "metadata": {
        "id": "rwoPxYCFhKVq"
      },
      "source": [
        "### Introduction:\n",
        "\n",
        "We are going to use Apple's stock price.\n",
        "\n",
        "\n",
        "### Step 1. Import the necessary libraries"
      ]
    },
    {
      "cell_type": "code",
      "metadata": {
        "id": "KDjntqfNhKVq"
      },
      "source": [
        "import pandas as pd"
      ],
      "execution_count": 1,
      "outputs": []
    },
    {
      "cell_type": "markdown",
      "metadata": {
        "id": "GDOaOphHhKVu"
      },
      "source": [
        "### Step 2. Import the dataset from this [address](https://raw.githubusercontent.com/guipsamora/pandas_exercises/master/09_Time_Series/Apple_Stock/appl_1980_2014.csv)"
      ]
    },
    {
      "cell_type": "code",
      "metadata": {
        "id": "R_kdmHH9hKVv",
        "outputId": "add051a0-fcf9-46a0-e8cc-d1449bd6edcc",
        "colab": {
          "base_uri": "https://localhost:8080/"
        }
      },
      "source": [
        "!wget https://raw.githubusercontent.com/guipsamora/pandas_exercises/master/09_Time_Series/Apple_Stock/appl_1980_2014.csv"
      ],
      "execution_count": 2,
      "outputs": [
        {
          "output_type": "stream",
          "text": [
            "--2020-10-30 03:20:11--  https://raw.githubusercontent.com/guipsamora/pandas_exercises/master/09_Time_Series/Apple_Stock/appl_1980_2014.csv\n",
            "Resolving raw.githubusercontent.com (raw.githubusercontent.com)... 151.101.0.133, 151.101.64.133, 151.101.128.133, ...\n",
            "Connecting to raw.githubusercontent.com (raw.githubusercontent.com)|151.101.0.133|:443... connected.\n",
            "HTTP request sent, awaiting response... 200 OK\n",
            "Length: 426412 (416K) [text/plain]\n",
            "Saving to: ‘appl_1980_2014.csv’\n",
            "\n",
            "appl_1980_2014.csv  100%[===================>] 416.42K  --.-KB/s    in 0.07s   \n",
            "\n",
            "2020-10-30 03:20:12 (5.61 MB/s) - ‘appl_1980_2014.csv’ saved [426412/426412]\n",
            "\n"
          ],
          "name": "stdout"
        }
      ]
    },
    {
      "cell_type": "markdown",
      "metadata": {
        "id": "gBfE9XwJhKVy"
      },
      "source": [
        "### Step 3. Assign it to a variable apple"
      ]
    },
    {
      "cell_type": "code",
      "metadata": {
        "id": "esYFQC4FhKVz",
        "outputId": "91f17de8-403b-4dee-8452-2bffad4e3cba",
        "colab": {
          "base_uri": "https://localhost:8080/",
          "height": 204
        }
      },
      "source": [
        "apple = pd.read_csv('appl_1980_2014.csv', sep = ',')\n",
        "apple.head()"
      ],
      "execution_count": 26,
      "outputs": [
        {
          "output_type": "execute_result",
          "data": {
            "text/plain": [
              "         Date   Open   High    Low  Close    Volume  Adj Close\n",
              "0  2014-07-08  96.27  96.80  93.92  95.35  65130000      95.35\n",
              "1  2014-07-07  94.14  95.99  94.10  95.97  56305400      95.97\n",
              "2  2014-07-03  93.67  94.10  93.20  94.03  22891800      94.03\n",
              "3  2014-07-02  93.87  94.06  93.09  93.48  28420900      93.48\n",
              "4  2014-07-01  93.52  94.07  93.13  93.52  38170200      93.52"
            ],
            "text/html": [
              "<div>\n",
              "<style scoped>\n",
              "    .dataframe tbody tr th:only-of-type {\n",
              "        vertical-align: middle;\n",
              "    }\n",
              "\n",
              "    .dataframe tbody tr th {\n",
              "        vertical-align: top;\n",
              "    }\n",
              "\n",
              "    .dataframe thead th {\n",
              "        text-align: right;\n",
              "    }\n",
              "</style>\n",
              "<table border=\"1\" class=\"dataframe\">\n",
              "  <thead>\n",
              "    <tr style=\"text-align: right;\">\n",
              "      <th></th>\n",
              "      <th>Date</th>\n",
              "      <th>Open</th>\n",
              "      <th>High</th>\n",
              "      <th>Low</th>\n",
              "      <th>Close</th>\n",
              "      <th>Volume</th>\n",
              "      <th>Adj Close</th>\n",
              "    </tr>\n",
              "  </thead>\n",
              "  <tbody>\n",
              "    <tr>\n",
              "      <th>0</th>\n",
              "      <td>2014-07-08</td>\n",
              "      <td>96.27</td>\n",
              "      <td>96.80</td>\n",
              "      <td>93.92</td>\n",
              "      <td>95.35</td>\n",
              "      <td>65130000</td>\n",
              "      <td>95.35</td>\n",
              "    </tr>\n",
              "    <tr>\n",
              "      <th>1</th>\n",
              "      <td>2014-07-07</td>\n",
              "      <td>94.14</td>\n",
              "      <td>95.99</td>\n",
              "      <td>94.10</td>\n",
              "      <td>95.97</td>\n",
              "      <td>56305400</td>\n",
              "      <td>95.97</td>\n",
              "    </tr>\n",
              "    <tr>\n",
              "      <th>2</th>\n",
              "      <td>2014-07-03</td>\n",
              "      <td>93.67</td>\n",
              "      <td>94.10</td>\n",
              "      <td>93.20</td>\n",
              "      <td>94.03</td>\n",
              "      <td>22891800</td>\n",
              "      <td>94.03</td>\n",
              "    </tr>\n",
              "    <tr>\n",
              "      <th>3</th>\n",
              "      <td>2014-07-02</td>\n",
              "      <td>93.87</td>\n",
              "      <td>94.06</td>\n",
              "      <td>93.09</td>\n",
              "      <td>93.48</td>\n",
              "      <td>28420900</td>\n",
              "      <td>93.48</td>\n",
              "    </tr>\n",
              "    <tr>\n",
              "      <th>4</th>\n",
              "      <td>2014-07-01</td>\n",
              "      <td>93.52</td>\n",
              "      <td>94.07</td>\n",
              "      <td>93.13</td>\n",
              "      <td>93.52</td>\n",
              "      <td>38170200</td>\n",
              "      <td>93.52</td>\n",
              "    </tr>\n",
              "  </tbody>\n",
              "</table>\n",
              "</div>"
            ]
          },
          "metadata": {
            "tags": []
          },
          "execution_count": 26
        }
      ]
    },
    {
      "cell_type": "markdown",
      "metadata": {
        "id": "rVbQTC9ZhKV3"
      },
      "source": [
        "### Step 4.  Check out the type of the columns"
      ]
    },
    {
      "cell_type": "code",
      "metadata": {
        "id": "ifL7CL_2hKV4",
        "outputId": "25bd24cd-b877-42f6-ee9f-e485f895b303",
        "colab": {
          "base_uri": "https://localhost:8080/"
        }
      },
      "source": [
        "apple.dtypes"
      ],
      "execution_count": 27,
      "outputs": [
        {
          "output_type": "execute_result",
          "data": {
            "text/plain": [
              "Date          object\n",
              "Open         float64\n",
              "High         float64\n",
              "Low          float64\n",
              "Close        float64\n",
              "Volume         int64\n",
              "Adj Close    float64\n",
              "dtype: object"
            ]
          },
          "metadata": {
            "tags": []
          },
          "execution_count": 27
        }
      ]
    },
    {
      "cell_type": "markdown",
      "metadata": {
        "id": "HZyhPyUlhKV7"
      },
      "source": [
        "### Step 5. Transform the Date column as a datetime type"
      ]
    },
    {
      "cell_type": "code",
      "metadata": {
        "id": "4VX_19OChKV8",
        "outputId": "7fb99302-da8a-4a7a-fdfa-58d29e37bbeb",
        "colab": {
          "base_uri": "https://localhost:8080/"
        }
      },
      "source": [
        "# Method 1 - if we want to change dtype for many cols at a time, this is good , but we dont have control on how we want to format our cols\n",
        "apple = apple.astype({'Date': 'datetime64[ns]'})\n",
        "apple.dtypes"
      ],
      "execution_count": 17,
      "outputs": [
        {
          "output_type": "execute_result",
          "data": {
            "text/plain": [
              "Date         datetime64[ns]\n",
              "Open                float64\n",
              "High                float64\n",
              "Low                 float64\n",
              "Close               float64\n",
              "Volume                int64\n",
              "Adj Close           float64\n",
              "dtype: object"
            ]
          },
          "metadata": {
            "tags": []
          },
          "execution_count": 17
        }
      ]
    },
    {
      "cell_type": "code",
      "metadata": {
        "id": "iYZTIj74jJJu",
        "outputId": "5a6c5c40-d643-4b64-fe6c-0fcc5016181e",
        "colab": {
          "base_uri": "https://localhost:8080/"
        }
      },
      "source": [
        "# Method 2 - if we just want to change col to datetime, this might be a better one as we can control date format\n",
        "apple['Date']=pd.to_datetime(apple['Date'])\n",
        "apple.dtypes"
      ],
      "execution_count": 28,
      "outputs": [
        {
          "output_type": "execute_result",
          "data": {
            "text/plain": [
              "Date         datetime64[ns]\n",
              "Open                float64\n",
              "High                float64\n",
              "Low                 float64\n",
              "Close               float64\n",
              "Volume                int64\n",
              "Adj Close           float64\n",
              "dtype: object"
            ]
          },
          "metadata": {
            "tags": []
          },
          "execution_count": 28
        }
      ]
    },
    {
      "cell_type": "markdown",
      "metadata": {
        "id": "KXc-WwP1hKWA"
      },
      "source": [
        "### Step 6.  Set the date as the index"
      ]
    },
    {
      "cell_type": "code",
      "metadata": {
        "id": "piSYdRD3hKWB",
        "outputId": "8e2a9b4c-dedb-4960-dc38-4031fce6edc8",
        "colab": {
          "base_uri": "https://localhost:8080/"
        }
      },
      "source": [
        "apple.set_index(['Date'], inplace=True)\n",
        "apple.index[:5]"
      ],
      "execution_count": 50,
      "outputs": [
        {
          "output_type": "execute_result",
          "data": {
            "text/plain": [
              "DatetimeIndex(['2014-07-08', '2014-07-07', '2014-07-03', '2014-07-02',\n",
              "               '2014-07-01'],\n",
              "              dtype='datetime64[ns]', name=u'Date', freq=None)"
            ]
          },
          "metadata": {
            "tags": []
          },
          "execution_count": 50
        }
      ]
    },
    {
      "cell_type": "markdown",
      "metadata": {
        "id": "DpBGoYRuhKWF"
      },
      "source": [
        "### Step 7.  Is there any duplicate dates?"
      ]
    },
    {
      "cell_type": "code",
      "metadata": {
        "id": "ndevyax3hKWG",
        "outputId": "8c986991-7613-4307-92f9-7454a62121f6",
        "colab": {
          "base_uri": "https://localhost:8080/"
        }
      },
      "source": [
        "# Method 1 - general way using methods of pandas series\n",
        "apple.index.duplicated().sum()"
      ],
      "execution_count": 77,
      "outputs": [
        {
          "output_type": "execute_result",
          "data": {
            "text/plain": [
              "0"
            ]
          },
          "metadata": {
            "tags": []
          },
          "execution_count": 77
        }
      ]
    },
    {
      "cell_type": "code",
      "metadata": {
        "id": "ICB-rLxLzzvj",
        "outputId": "ec27426c-7c96-438b-930c-475e821d1ce9",
        "colab": {
          "base_uri": "https://localhost:8080/"
        }
      },
      "source": [
        "# Method 2 - using the unique method for df's index ('index' specific thus preferable)\n",
        "apple.index.is_unique"
      ],
      "execution_count": 102,
      "outputs": [
        {
          "output_type": "execute_result",
          "data": {
            "text/plain": [
              "True"
            ]
          },
          "metadata": {
            "tags": []
          },
          "execution_count": 102
        }
      ]
    },
    {
      "cell_type": "markdown",
      "metadata": {
        "id": "1Wub0g5KhKWJ"
      },
      "source": [
        "### Step 8.  Ops...it seems the index is from the most recent date. Make the first entry the oldest date."
      ]
    },
    {
      "cell_type": "code",
      "metadata": {
        "id": "F-Msxd5nhKWK",
        "outputId": "81af7d72-5ac9-441d-89ef-c85fe8fbe9bd",
        "colab": {
          "base_uri": "https://localhost:8080/",
          "height": 235
        }
      },
      "source": [
        "apple.sort_index(ascending=False).head()"
      ],
      "execution_count": 51,
      "outputs": [
        {
          "output_type": "execute_result",
          "data": {
            "text/plain": [
              "             Open   High    Low  Close    Volume  Adj Close\n",
              "Date                                                       \n",
              "2014-07-08  96.27  96.80  93.92  95.35  65130000      95.35\n",
              "2014-07-07  94.14  95.99  94.10  95.97  56305400      95.97\n",
              "2014-07-03  93.67  94.10  93.20  94.03  22891800      94.03\n",
              "2014-07-02  93.87  94.06  93.09  93.48  28420900      93.48\n",
              "2014-07-01  93.52  94.07  93.13  93.52  38170200      93.52"
            ],
            "text/html": [
              "<div>\n",
              "<style scoped>\n",
              "    .dataframe tbody tr th:only-of-type {\n",
              "        vertical-align: middle;\n",
              "    }\n",
              "\n",
              "    .dataframe tbody tr th {\n",
              "        vertical-align: top;\n",
              "    }\n",
              "\n",
              "    .dataframe thead th {\n",
              "        text-align: right;\n",
              "    }\n",
              "</style>\n",
              "<table border=\"1\" class=\"dataframe\">\n",
              "  <thead>\n",
              "    <tr style=\"text-align: right;\">\n",
              "      <th></th>\n",
              "      <th>Open</th>\n",
              "      <th>High</th>\n",
              "      <th>Low</th>\n",
              "      <th>Close</th>\n",
              "      <th>Volume</th>\n",
              "      <th>Adj Close</th>\n",
              "    </tr>\n",
              "    <tr>\n",
              "      <th>Date</th>\n",
              "      <th></th>\n",
              "      <th></th>\n",
              "      <th></th>\n",
              "      <th></th>\n",
              "      <th></th>\n",
              "      <th></th>\n",
              "    </tr>\n",
              "  </thead>\n",
              "  <tbody>\n",
              "    <tr>\n",
              "      <th>2014-07-08</th>\n",
              "      <td>96.27</td>\n",
              "      <td>96.80</td>\n",
              "      <td>93.92</td>\n",
              "      <td>95.35</td>\n",
              "      <td>65130000</td>\n",
              "      <td>95.35</td>\n",
              "    </tr>\n",
              "    <tr>\n",
              "      <th>2014-07-07</th>\n",
              "      <td>94.14</td>\n",
              "      <td>95.99</td>\n",
              "      <td>94.10</td>\n",
              "      <td>95.97</td>\n",
              "      <td>56305400</td>\n",
              "      <td>95.97</td>\n",
              "    </tr>\n",
              "    <tr>\n",
              "      <th>2014-07-03</th>\n",
              "      <td>93.67</td>\n",
              "      <td>94.10</td>\n",
              "      <td>93.20</td>\n",
              "      <td>94.03</td>\n",
              "      <td>22891800</td>\n",
              "      <td>94.03</td>\n",
              "    </tr>\n",
              "    <tr>\n",
              "      <th>2014-07-02</th>\n",
              "      <td>93.87</td>\n",
              "      <td>94.06</td>\n",
              "      <td>93.09</td>\n",
              "      <td>93.48</td>\n",
              "      <td>28420900</td>\n",
              "      <td>93.48</td>\n",
              "    </tr>\n",
              "    <tr>\n",
              "      <th>2014-07-01</th>\n",
              "      <td>93.52</td>\n",
              "      <td>94.07</td>\n",
              "      <td>93.13</td>\n",
              "      <td>93.52</td>\n",
              "      <td>38170200</td>\n",
              "      <td>93.52</td>\n",
              "    </tr>\n",
              "  </tbody>\n",
              "</table>\n",
              "</div>"
            ]
          },
          "metadata": {
            "tags": []
          },
          "execution_count": 51
        }
      ]
    },
    {
      "cell_type": "markdown",
      "metadata": {
        "id": "KOxjfJdPhKWN"
      },
      "source": [
        "### Step 9. Get the last business day of each month \n",
        "Note: [stackoverflow answer on resample documentation](https://stackoverflow.com/questions/17001389/pandas-resample-documentation)"
      ]
    },
    {
      "cell_type": "code",
      "metadata": {
        "id": "ERNLcH2b05tc",
        "outputId": "8a6a5eb6-24fe-43cd-d7ba-47b304bca4c3",
        "colab": {
          "base_uri": "https://localhost:8080/",
          "height": 1000
        }
      },
      "source": [
        "# df or series 'timeseries-index' specific thus preferable (If we want to groupby df by last business days of each year-month)\n",
        "apple.resample('BM').mean()"
      ],
      "execution_count": 103,
      "outputs": [
        {
          "output_type": "execute_result",
          "data": {
            "text/plain": [
              "                  Open        High         Low       Close        Volume  \\\n",
              "Date                                                                       \n",
              "1980-12-31   30.481538   30.567692   30.443077   30.443077  2.586252e+07   \n",
              "1981-01-30   31.754762   31.826667   31.654762   31.654762  7.249867e+06   \n",
              "1981-02-27   26.480000   26.572105   26.407895   26.407895  4.231832e+06   \n",
              "1981-03-31   24.937727   25.016818   24.836364   24.836364  7.962691e+06   \n",
              "1981-04-30   27.286667   27.368095   27.227143   27.227143  6.392000e+06   \n",
              "1981-05-29   29.052000   29.188000   28.995000   28.995000  7.380240e+06   \n",
              "1981-06-30   30.801818   30.876364   30.703636   30.703636  1.080189e+07   \n",
              "1981-07-31   24.436364   24.531818   24.374545   24.374545  7.584436e+06   \n",
              "1981-08-31   22.336500   22.386500   22.218500   22.218500  6.857760e+06   \n",
              "1981-09-30   18.221429   18.273810   18.131429   18.131429  8.853333e+06   \n",
              "1981-10-30   18.603182   18.722273   18.569091   18.569091  1.027473e+07   \n",
              "1981-11-30   18.697500   18.774000   18.642500   18.642500  7.333480e+06   \n",
              "1981-12-31   20.220909   20.317727   20.164545   20.164545  1.178545e+07   \n",
              "1982-01-29   19.938000   20.019000   19.850500   19.850500  1.080268e+07   \n",
              "1982-02-26   18.980000   19.052105   18.914211   18.914211  8.005347e+06   \n",
              "1982-03-31   16.657391   16.722174   16.592609   16.592609  1.303997e+07   \n",
              "1982-04-30   16.356667   16.428095   16.291429   16.291429  2.082853e+07   \n",
              "1982-05-31   14.931500   14.993000   14.856500   14.856500  1.554868e+07   \n",
              "1982-06-30   13.308182   13.386364   13.240000   13.240000  9.132327e+06   \n",
              "1982-07-30   12.881429   12.970476   12.839524   12.839524  1.688347e+07   \n",
              "1982-08-31   14.529091   14.625455   14.495000   14.495000  2.450000e+07   \n",
              "1982-09-30   18.236190   18.325238   18.182857   18.182857  1.980427e+07   \n",
              "1982-10-29   22.927619   23.672857   22.583810   23.254762  4.499413e+07   \n",
              "1982-11-30   29.898095   30.988095   29.279048   30.183810  3.752747e+07   \n",
              "1982-12-31   31.022727   31.737727   30.368636   31.000000  3.097716e+07   \n",
              "1983-01-31   33.154762   34.415714   32.542381   33.637143  5.451227e+07   \n",
              "1983-02-28   44.566316   45.566842   43.703684   44.763684  4.149069e+07   \n",
              "1983-03-31   43.555217   44.218696   42.651739   43.425652  2.878619e+07   \n",
              "1983-04-29   45.387000   46.518000   44.719000   45.756000  4.173540e+07   \n",
              "1983-05-31   54.369048   55.368571   53.494762   54.720476  2.481440e+07   \n",
              "...                ...         ...         ...         ...           ...   \n",
              "2012-02-29  494.803000  500.849000  491.437500  497.571000  1.421069e+08   \n",
              "2012-03-30  576.858182  582.064545  570.245909  577.507727  1.770948e+08   \n",
              "2012-04-30  609.607500  615.487500  598.650000  606.003000  1.949874e+08   \n",
              "2012-05-31  565.785000  572.141364  558.397273  564.673182  1.262085e+08   \n",
              "2012-06-29  574.660952  578.889048  569.213333  574.562381  9.352173e+07   \n",
              "2012-07-31  599.610000  604.920952  594.680476  601.068095  1.060673e+08   \n",
              "2012-08-31  641.527826  646.655217  637.138261  642.696087  8.995877e+07   \n",
              "2012-09-28  682.118421  687.007895  676.095263  681.568421  1.210395e+08   \n",
              "2012-10-31  638.667143  643.650476  628.213810  634.714286  1.445575e+08   \n",
              "2012-11-30  567.038571  572.368095  557.075714  564.345714  1.539268e+08   \n",
              "2012-12-31  533.336000  539.715000  524.967000  532.055000  1.516594e+08   \n",
              "2013-01-31  500.083333  504.407619  492.970000  497.822381  1.562312e+08   \n",
              "2013-02-28  458.503684  463.231053  452.106316  456.808947  1.229478e+08   \n",
              "2013-03-29  442.011500  446.803500  437.338000  441.841000  1.147110e+08   \n",
              "2013-04-30  419.766818  425.553182  414.722273  419.765000  1.245851e+08   \n",
              "2013-05-31  446.400909  451.658182  441.495455  446.452727  1.073583e+08   \n",
              "2013-06-28  427.962000  431.270500  422.053000  425.538000  8.773170e+07   \n",
              "2013-07-31  428.257273  432.680455  424.906818  429.157273  7.429676e+07   \n",
              "2013-08-30  484.059545  489.319545  480.346818  484.843636  9.157203e+07   \n",
              "2013-09-30  482.772500  485.907500  476.861500  480.184500  1.078868e+08   \n",
              "2013-10-31  504.148696  508.726957  499.542609  504.744783  8.519274e+07   \n",
              "2013-11-29  523.218000  527.830000  520.223000  524.616500  6.531444e+07   \n",
              "2013-12-31  560.648095  564.355238  556.405714  559.657619  8.401663e+07   \n",
              "2014-01-31  538.100952  542.844762  533.065714  537.445714  1.043566e+08   \n",
              "2014-02-28  525.721053  530.773684  522.126316  526.580000  7.737325e+07   \n",
              "2014-03-31  533.593333  536.453810  530.070952  533.214286  5.954403e+07   \n",
              "2014-04-30  540.081905  544.349048  536.262381  541.074286  7.660787e+07   \n",
              "2014-05-30  601.301905  606.372857  598.332857  603.195714  6.828177e+07   \n",
              "2014-06-30  222.360000  224.084286  220.735714  222.658095  5.745506e+07   \n",
              "2014-07-31   94.294000   95.004000   93.488000   94.470000  4.218366e+07   \n",
              "\n",
              "            Adj Close  \n",
              "Date                   \n",
              "1980-12-31   0.473077  \n",
              "1981-01-30   0.493810  \n",
              "1981-02-27   0.411053  \n",
              "1981-03-31   0.387727  \n",
              "1981-04-30   0.423333  \n",
              "1981-05-29   0.452500  \n",
              "1981-06-30   0.477727  \n",
              "1981-07-31   0.379545  \n",
              "1981-08-31   0.345000  \n",
              "1981-09-30   0.283333  \n",
              "1981-10-30   0.289545  \n",
              "1981-11-30   0.289500  \n",
              "1981-12-31   0.313636  \n",
              "1982-01-29   0.309000  \n",
              "1982-02-26   0.294737  \n",
              "1982-03-31   0.259130  \n",
              "1982-04-30   0.254762  \n",
              "1982-05-31   0.231500  \n",
              "1982-06-30   0.205455  \n",
              "1982-07-30   0.200000  \n",
              "1982-08-31   0.225000  \n",
              "1982-09-30   0.281905  \n",
              "1982-10-29   0.362857  \n",
              "1982-11-30   0.470476  \n",
              "1982-12-31   0.484091  \n",
              "1983-01-31   0.522857  \n",
              "1983-02-28   0.697895  \n",
              "1983-03-31   0.675652  \n",
              "1983-04-29   0.712500  \n",
              "1983-05-31   0.852857  \n",
              "...               ...  \n",
              "2012-02-29  67.940000  \n",
              "2012-03-30  78.855455  \n",
              "2012-04-30  82.746500  \n",
              "2012-05-31  77.102727  \n",
              "2012-06-29  78.454286  \n",
              "2012-07-31  82.072857  \n",
              "2012-08-31  88.040000  \n",
              "2012-09-28  93.464211  \n",
              "2012-10-31  87.040476  \n",
              "2012-11-30  77.673333  \n",
              "2012-12-31  73.294500  \n",
              "2013-01-31  68.580000  \n",
              "2013-02-28  63.218421  \n",
              "2013-03-29  61.221000  \n",
              "2013-04-30  58.162727  \n",
              "2013-05-31  62.157727  \n",
              "2013-06-28  59.353500  \n",
              "2013-07-31  59.858182  \n",
              "2013-08-30  67.974545  \n",
              "2013-09-30  67.419500  \n",
              "2013-10-31  70.865217  \n",
              "2013-11-29  74.021000  \n",
              "2013-12-31  79.034762  \n",
              "2014-01-31  75.897143  \n",
              "2014-02-28  74.741053  \n",
              "2014-03-31  75.750000  \n",
              "2014-04-30  76.867143  \n",
              "2014-05-30  86.058571  \n",
              "2014-06-30  91.885714  \n",
              "2014-07-31  94.470000  \n",
              "\n",
              "[404 rows x 6 columns]"
            ],
            "text/html": [
              "<div>\n",
              "<style scoped>\n",
              "    .dataframe tbody tr th:only-of-type {\n",
              "        vertical-align: middle;\n",
              "    }\n",
              "\n",
              "    .dataframe tbody tr th {\n",
              "        vertical-align: top;\n",
              "    }\n",
              "\n",
              "    .dataframe thead th {\n",
              "        text-align: right;\n",
              "    }\n",
              "</style>\n",
              "<table border=\"1\" class=\"dataframe\">\n",
              "  <thead>\n",
              "    <tr style=\"text-align: right;\">\n",
              "      <th></th>\n",
              "      <th>Open</th>\n",
              "      <th>High</th>\n",
              "      <th>Low</th>\n",
              "      <th>Close</th>\n",
              "      <th>Volume</th>\n",
              "      <th>Adj Close</th>\n",
              "    </tr>\n",
              "    <tr>\n",
              "      <th>Date</th>\n",
              "      <th></th>\n",
              "      <th></th>\n",
              "      <th></th>\n",
              "      <th></th>\n",
              "      <th></th>\n",
              "      <th></th>\n",
              "    </tr>\n",
              "  </thead>\n",
              "  <tbody>\n",
              "    <tr>\n",
              "      <th>1980-12-31</th>\n",
              "      <td>30.481538</td>\n",
              "      <td>30.567692</td>\n",
              "      <td>30.443077</td>\n",
              "      <td>30.443077</td>\n",
              "      <td>2.586252e+07</td>\n",
              "      <td>0.473077</td>\n",
              "    </tr>\n",
              "    <tr>\n",
              "      <th>1981-01-30</th>\n",
              "      <td>31.754762</td>\n",
              "      <td>31.826667</td>\n",
              "      <td>31.654762</td>\n",
              "      <td>31.654762</td>\n",
              "      <td>7.249867e+06</td>\n",
              "      <td>0.493810</td>\n",
              "    </tr>\n",
              "    <tr>\n",
              "      <th>1981-02-27</th>\n",
              "      <td>26.480000</td>\n",
              "      <td>26.572105</td>\n",
              "      <td>26.407895</td>\n",
              "      <td>26.407895</td>\n",
              "      <td>4.231832e+06</td>\n",
              "      <td>0.411053</td>\n",
              "    </tr>\n",
              "    <tr>\n",
              "      <th>1981-03-31</th>\n",
              "      <td>24.937727</td>\n",
              "      <td>25.016818</td>\n",
              "      <td>24.836364</td>\n",
              "      <td>24.836364</td>\n",
              "      <td>7.962691e+06</td>\n",
              "      <td>0.387727</td>\n",
              "    </tr>\n",
              "    <tr>\n",
              "      <th>1981-04-30</th>\n",
              "      <td>27.286667</td>\n",
              "      <td>27.368095</td>\n",
              "      <td>27.227143</td>\n",
              "      <td>27.227143</td>\n",
              "      <td>6.392000e+06</td>\n",
              "      <td>0.423333</td>\n",
              "    </tr>\n",
              "    <tr>\n",
              "      <th>1981-05-29</th>\n",
              "      <td>29.052000</td>\n",
              "      <td>29.188000</td>\n",
              "      <td>28.995000</td>\n",
              "      <td>28.995000</td>\n",
              "      <td>7.380240e+06</td>\n",
              "      <td>0.452500</td>\n",
              "    </tr>\n",
              "    <tr>\n",
              "      <th>1981-06-30</th>\n",
              "      <td>30.801818</td>\n",
              "      <td>30.876364</td>\n",
              "      <td>30.703636</td>\n",
              "      <td>30.703636</td>\n",
              "      <td>1.080189e+07</td>\n",
              "      <td>0.477727</td>\n",
              "    </tr>\n",
              "    <tr>\n",
              "      <th>1981-07-31</th>\n",
              "      <td>24.436364</td>\n",
              "      <td>24.531818</td>\n",
              "      <td>24.374545</td>\n",
              "      <td>24.374545</td>\n",
              "      <td>7.584436e+06</td>\n",
              "      <td>0.379545</td>\n",
              "    </tr>\n",
              "    <tr>\n",
              "      <th>1981-08-31</th>\n",
              "      <td>22.336500</td>\n",
              "      <td>22.386500</td>\n",
              "      <td>22.218500</td>\n",
              "      <td>22.218500</td>\n",
              "      <td>6.857760e+06</td>\n",
              "      <td>0.345000</td>\n",
              "    </tr>\n",
              "    <tr>\n",
              "      <th>1981-09-30</th>\n",
              "      <td>18.221429</td>\n",
              "      <td>18.273810</td>\n",
              "      <td>18.131429</td>\n",
              "      <td>18.131429</td>\n",
              "      <td>8.853333e+06</td>\n",
              "      <td>0.283333</td>\n",
              "    </tr>\n",
              "    <tr>\n",
              "      <th>1981-10-30</th>\n",
              "      <td>18.603182</td>\n",
              "      <td>18.722273</td>\n",
              "      <td>18.569091</td>\n",
              "      <td>18.569091</td>\n",
              "      <td>1.027473e+07</td>\n",
              "      <td>0.289545</td>\n",
              "    </tr>\n",
              "    <tr>\n",
              "      <th>1981-11-30</th>\n",
              "      <td>18.697500</td>\n",
              "      <td>18.774000</td>\n",
              "      <td>18.642500</td>\n",
              "      <td>18.642500</td>\n",
              "      <td>7.333480e+06</td>\n",
              "      <td>0.289500</td>\n",
              "    </tr>\n",
              "    <tr>\n",
              "      <th>1981-12-31</th>\n",
              "      <td>20.220909</td>\n",
              "      <td>20.317727</td>\n",
              "      <td>20.164545</td>\n",
              "      <td>20.164545</td>\n",
              "      <td>1.178545e+07</td>\n",
              "      <td>0.313636</td>\n",
              "    </tr>\n",
              "    <tr>\n",
              "      <th>1982-01-29</th>\n",
              "      <td>19.938000</td>\n",
              "      <td>20.019000</td>\n",
              "      <td>19.850500</td>\n",
              "      <td>19.850500</td>\n",
              "      <td>1.080268e+07</td>\n",
              "      <td>0.309000</td>\n",
              "    </tr>\n",
              "    <tr>\n",
              "      <th>1982-02-26</th>\n",
              "      <td>18.980000</td>\n",
              "      <td>19.052105</td>\n",
              "      <td>18.914211</td>\n",
              "      <td>18.914211</td>\n",
              "      <td>8.005347e+06</td>\n",
              "      <td>0.294737</td>\n",
              "    </tr>\n",
              "    <tr>\n",
              "      <th>1982-03-31</th>\n",
              "      <td>16.657391</td>\n",
              "      <td>16.722174</td>\n",
              "      <td>16.592609</td>\n",
              "      <td>16.592609</td>\n",
              "      <td>1.303997e+07</td>\n",
              "      <td>0.259130</td>\n",
              "    </tr>\n",
              "    <tr>\n",
              "      <th>1982-04-30</th>\n",
              "      <td>16.356667</td>\n",
              "      <td>16.428095</td>\n",
              "      <td>16.291429</td>\n",
              "      <td>16.291429</td>\n",
              "      <td>2.082853e+07</td>\n",
              "      <td>0.254762</td>\n",
              "    </tr>\n",
              "    <tr>\n",
              "      <th>1982-05-31</th>\n",
              "      <td>14.931500</td>\n",
              "      <td>14.993000</td>\n",
              "      <td>14.856500</td>\n",
              "      <td>14.856500</td>\n",
              "      <td>1.554868e+07</td>\n",
              "      <td>0.231500</td>\n",
              "    </tr>\n",
              "    <tr>\n",
              "      <th>1982-06-30</th>\n",
              "      <td>13.308182</td>\n",
              "      <td>13.386364</td>\n",
              "      <td>13.240000</td>\n",
              "      <td>13.240000</td>\n",
              "      <td>9.132327e+06</td>\n",
              "      <td>0.205455</td>\n",
              "    </tr>\n",
              "    <tr>\n",
              "      <th>1982-07-30</th>\n",
              "      <td>12.881429</td>\n",
              "      <td>12.970476</td>\n",
              "      <td>12.839524</td>\n",
              "      <td>12.839524</td>\n",
              "      <td>1.688347e+07</td>\n",
              "      <td>0.200000</td>\n",
              "    </tr>\n",
              "    <tr>\n",
              "      <th>1982-08-31</th>\n",
              "      <td>14.529091</td>\n",
              "      <td>14.625455</td>\n",
              "      <td>14.495000</td>\n",
              "      <td>14.495000</td>\n",
              "      <td>2.450000e+07</td>\n",
              "      <td>0.225000</td>\n",
              "    </tr>\n",
              "    <tr>\n",
              "      <th>1982-09-30</th>\n",
              "      <td>18.236190</td>\n",
              "      <td>18.325238</td>\n",
              "      <td>18.182857</td>\n",
              "      <td>18.182857</td>\n",
              "      <td>1.980427e+07</td>\n",
              "      <td>0.281905</td>\n",
              "    </tr>\n",
              "    <tr>\n",
              "      <th>1982-10-29</th>\n",
              "      <td>22.927619</td>\n",
              "      <td>23.672857</td>\n",
              "      <td>22.583810</td>\n",
              "      <td>23.254762</td>\n",
              "      <td>4.499413e+07</td>\n",
              "      <td>0.362857</td>\n",
              "    </tr>\n",
              "    <tr>\n",
              "      <th>1982-11-30</th>\n",
              "      <td>29.898095</td>\n",
              "      <td>30.988095</td>\n",
              "      <td>29.279048</td>\n",
              "      <td>30.183810</td>\n",
              "      <td>3.752747e+07</td>\n",
              "      <td>0.470476</td>\n",
              "    </tr>\n",
              "    <tr>\n",
              "      <th>1982-12-31</th>\n",
              "      <td>31.022727</td>\n",
              "      <td>31.737727</td>\n",
              "      <td>30.368636</td>\n",
              "      <td>31.000000</td>\n",
              "      <td>3.097716e+07</td>\n",
              "      <td>0.484091</td>\n",
              "    </tr>\n",
              "    <tr>\n",
              "      <th>1983-01-31</th>\n",
              "      <td>33.154762</td>\n",
              "      <td>34.415714</td>\n",
              "      <td>32.542381</td>\n",
              "      <td>33.637143</td>\n",
              "      <td>5.451227e+07</td>\n",
              "      <td>0.522857</td>\n",
              "    </tr>\n",
              "    <tr>\n",
              "      <th>1983-02-28</th>\n",
              "      <td>44.566316</td>\n",
              "      <td>45.566842</td>\n",
              "      <td>43.703684</td>\n",
              "      <td>44.763684</td>\n",
              "      <td>4.149069e+07</td>\n",
              "      <td>0.697895</td>\n",
              "    </tr>\n",
              "    <tr>\n",
              "      <th>1983-03-31</th>\n",
              "      <td>43.555217</td>\n",
              "      <td>44.218696</td>\n",
              "      <td>42.651739</td>\n",
              "      <td>43.425652</td>\n",
              "      <td>2.878619e+07</td>\n",
              "      <td>0.675652</td>\n",
              "    </tr>\n",
              "    <tr>\n",
              "      <th>1983-04-29</th>\n",
              "      <td>45.387000</td>\n",
              "      <td>46.518000</td>\n",
              "      <td>44.719000</td>\n",
              "      <td>45.756000</td>\n",
              "      <td>4.173540e+07</td>\n",
              "      <td>0.712500</td>\n",
              "    </tr>\n",
              "    <tr>\n",
              "      <th>1983-05-31</th>\n",
              "      <td>54.369048</td>\n",
              "      <td>55.368571</td>\n",
              "      <td>53.494762</td>\n",
              "      <td>54.720476</td>\n",
              "      <td>2.481440e+07</td>\n",
              "      <td>0.852857</td>\n",
              "    </tr>\n",
              "    <tr>\n",
              "      <th>...</th>\n",
              "      <td>...</td>\n",
              "      <td>...</td>\n",
              "      <td>...</td>\n",
              "      <td>...</td>\n",
              "      <td>...</td>\n",
              "      <td>...</td>\n",
              "    </tr>\n",
              "    <tr>\n",
              "      <th>2012-02-29</th>\n",
              "      <td>494.803000</td>\n",
              "      <td>500.849000</td>\n",
              "      <td>491.437500</td>\n",
              "      <td>497.571000</td>\n",
              "      <td>1.421069e+08</td>\n",
              "      <td>67.940000</td>\n",
              "    </tr>\n",
              "    <tr>\n",
              "      <th>2012-03-30</th>\n",
              "      <td>576.858182</td>\n",
              "      <td>582.064545</td>\n",
              "      <td>570.245909</td>\n",
              "      <td>577.507727</td>\n",
              "      <td>1.770948e+08</td>\n",
              "      <td>78.855455</td>\n",
              "    </tr>\n",
              "    <tr>\n",
              "      <th>2012-04-30</th>\n",
              "      <td>609.607500</td>\n",
              "      <td>615.487500</td>\n",
              "      <td>598.650000</td>\n",
              "      <td>606.003000</td>\n",
              "      <td>1.949874e+08</td>\n",
              "      <td>82.746500</td>\n",
              "    </tr>\n",
              "    <tr>\n",
              "      <th>2012-05-31</th>\n",
              "      <td>565.785000</td>\n",
              "      <td>572.141364</td>\n",
              "      <td>558.397273</td>\n",
              "      <td>564.673182</td>\n",
              "      <td>1.262085e+08</td>\n",
              "      <td>77.102727</td>\n",
              "    </tr>\n",
              "    <tr>\n",
              "      <th>2012-06-29</th>\n",
              "      <td>574.660952</td>\n",
              "      <td>578.889048</td>\n",
              "      <td>569.213333</td>\n",
              "      <td>574.562381</td>\n",
              "      <td>9.352173e+07</td>\n",
              "      <td>78.454286</td>\n",
              "    </tr>\n",
              "    <tr>\n",
              "      <th>2012-07-31</th>\n",
              "      <td>599.610000</td>\n",
              "      <td>604.920952</td>\n",
              "      <td>594.680476</td>\n",
              "      <td>601.068095</td>\n",
              "      <td>1.060673e+08</td>\n",
              "      <td>82.072857</td>\n",
              "    </tr>\n",
              "    <tr>\n",
              "      <th>2012-08-31</th>\n",
              "      <td>641.527826</td>\n",
              "      <td>646.655217</td>\n",
              "      <td>637.138261</td>\n",
              "      <td>642.696087</td>\n",
              "      <td>8.995877e+07</td>\n",
              "      <td>88.040000</td>\n",
              "    </tr>\n",
              "    <tr>\n",
              "      <th>2012-09-28</th>\n",
              "      <td>682.118421</td>\n",
              "      <td>687.007895</td>\n",
              "      <td>676.095263</td>\n",
              "      <td>681.568421</td>\n",
              "      <td>1.210395e+08</td>\n",
              "      <td>93.464211</td>\n",
              "    </tr>\n",
              "    <tr>\n",
              "      <th>2012-10-31</th>\n",
              "      <td>638.667143</td>\n",
              "      <td>643.650476</td>\n",
              "      <td>628.213810</td>\n",
              "      <td>634.714286</td>\n",
              "      <td>1.445575e+08</td>\n",
              "      <td>87.040476</td>\n",
              "    </tr>\n",
              "    <tr>\n",
              "      <th>2012-11-30</th>\n",
              "      <td>567.038571</td>\n",
              "      <td>572.368095</td>\n",
              "      <td>557.075714</td>\n",
              "      <td>564.345714</td>\n",
              "      <td>1.539268e+08</td>\n",
              "      <td>77.673333</td>\n",
              "    </tr>\n",
              "    <tr>\n",
              "      <th>2012-12-31</th>\n",
              "      <td>533.336000</td>\n",
              "      <td>539.715000</td>\n",
              "      <td>524.967000</td>\n",
              "      <td>532.055000</td>\n",
              "      <td>1.516594e+08</td>\n",
              "      <td>73.294500</td>\n",
              "    </tr>\n",
              "    <tr>\n",
              "      <th>2013-01-31</th>\n",
              "      <td>500.083333</td>\n",
              "      <td>504.407619</td>\n",
              "      <td>492.970000</td>\n",
              "      <td>497.822381</td>\n",
              "      <td>1.562312e+08</td>\n",
              "      <td>68.580000</td>\n",
              "    </tr>\n",
              "    <tr>\n",
              "      <th>2013-02-28</th>\n",
              "      <td>458.503684</td>\n",
              "      <td>463.231053</td>\n",
              "      <td>452.106316</td>\n",
              "      <td>456.808947</td>\n",
              "      <td>1.229478e+08</td>\n",
              "      <td>63.218421</td>\n",
              "    </tr>\n",
              "    <tr>\n",
              "      <th>2013-03-29</th>\n",
              "      <td>442.011500</td>\n",
              "      <td>446.803500</td>\n",
              "      <td>437.338000</td>\n",
              "      <td>441.841000</td>\n",
              "      <td>1.147110e+08</td>\n",
              "      <td>61.221000</td>\n",
              "    </tr>\n",
              "    <tr>\n",
              "      <th>2013-04-30</th>\n",
              "      <td>419.766818</td>\n",
              "      <td>425.553182</td>\n",
              "      <td>414.722273</td>\n",
              "      <td>419.765000</td>\n",
              "      <td>1.245851e+08</td>\n",
              "      <td>58.162727</td>\n",
              "    </tr>\n",
              "    <tr>\n",
              "      <th>2013-05-31</th>\n",
              "      <td>446.400909</td>\n",
              "      <td>451.658182</td>\n",
              "      <td>441.495455</td>\n",
              "      <td>446.452727</td>\n",
              "      <td>1.073583e+08</td>\n",
              "      <td>62.157727</td>\n",
              "    </tr>\n",
              "    <tr>\n",
              "      <th>2013-06-28</th>\n",
              "      <td>427.962000</td>\n",
              "      <td>431.270500</td>\n",
              "      <td>422.053000</td>\n",
              "      <td>425.538000</td>\n",
              "      <td>8.773170e+07</td>\n",
              "      <td>59.353500</td>\n",
              "    </tr>\n",
              "    <tr>\n",
              "      <th>2013-07-31</th>\n",
              "      <td>428.257273</td>\n",
              "      <td>432.680455</td>\n",
              "      <td>424.906818</td>\n",
              "      <td>429.157273</td>\n",
              "      <td>7.429676e+07</td>\n",
              "      <td>59.858182</td>\n",
              "    </tr>\n",
              "    <tr>\n",
              "      <th>2013-08-30</th>\n",
              "      <td>484.059545</td>\n",
              "      <td>489.319545</td>\n",
              "      <td>480.346818</td>\n",
              "      <td>484.843636</td>\n",
              "      <td>9.157203e+07</td>\n",
              "      <td>67.974545</td>\n",
              "    </tr>\n",
              "    <tr>\n",
              "      <th>2013-09-30</th>\n",
              "      <td>482.772500</td>\n",
              "      <td>485.907500</td>\n",
              "      <td>476.861500</td>\n",
              "      <td>480.184500</td>\n",
              "      <td>1.078868e+08</td>\n",
              "      <td>67.419500</td>\n",
              "    </tr>\n",
              "    <tr>\n",
              "      <th>2013-10-31</th>\n",
              "      <td>504.148696</td>\n",
              "      <td>508.726957</td>\n",
              "      <td>499.542609</td>\n",
              "      <td>504.744783</td>\n",
              "      <td>8.519274e+07</td>\n",
              "      <td>70.865217</td>\n",
              "    </tr>\n",
              "    <tr>\n",
              "      <th>2013-11-29</th>\n",
              "      <td>523.218000</td>\n",
              "      <td>527.830000</td>\n",
              "      <td>520.223000</td>\n",
              "      <td>524.616500</td>\n",
              "      <td>6.531444e+07</td>\n",
              "      <td>74.021000</td>\n",
              "    </tr>\n",
              "    <tr>\n",
              "      <th>2013-12-31</th>\n",
              "      <td>560.648095</td>\n",
              "      <td>564.355238</td>\n",
              "      <td>556.405714</td>\n",
              "      <td>559.657619</td>\n",
              "      <td>8.401663e+07</td>\n",
              "      <td>79.034762</td>\n",
              "    </tr>\n",
              "    <tr>\n",
              "      <th>2014-01-31</th>\n",
              "      <td>538.100952</td>\n",
              "      <td>542.844762</td>\n",
              "      <td>533.065714</td>\n",
              "      <td>537.445714</td>\n",
              "      <td>1.043566e+08</td>\n",
              "      <td>75.897143</td>\n",
              "    </tr>\n",
              "    <tr>\n",
              "      <th>2014-02-28</th>\n",
              "      <td>525.721053</td>\n",
              "      <td>530.773684</td>\n",
              "      <td>522.126316</td>\n",
              "      <td>526.580000</td>\n",
              "      <td>7.737325e+07</td>\n",
              "      <td>74.741053</td>\n",
              "    </tr>\n",
              "    <tr>\n",
              "      <th>2014-03-31</th>\n",
              "      <td>533.593333</td>\n",
              "      <td>536.453810</td>\n",
              "      <td>530.070952</td>\n",
              "      <td>533.214286</td>\n",
              "      <td>5.954403e+07</td>\n",
              "      <td>75.750000</td>\n",
              "    </tr>\n",
              "    <tr>\n",
              "      <th>2014-04-30</th>\n",
              "      <td>540.081905</td>\n",
              "      <td>544.349048</td>\n",
              "      <td>536.262381</td>\n",
              "      <td>541.074286</td>\n",
              "      <td>7.660787e+07</td>\n",
              "      <td>76.867143</td>\n",
              "    </tr>\n",
              "    <tr>\n",
              "      <th>2014-05-30</th>\n",
              "      <td>601.301905</td>\n",
              "      <td>606.372857</td>\n",
              "      <td>598.332857</td>\n",
              "      <td>603.195714</td>\n",
              "      <td>6.828177e+07</td>\n",
              "      <td>86.058571</td>\n",
              "    </tr>\n",
              "    <tr>\n",
              "      <th>2014-06-30</th>\n",
              "      <td>222.360000</td>\n",
              "      <td>224.084286</td>\n",
              "      <td>220.735714</td>\n",
              "      <td>222.658095</td>\n",
              "      <td>5.745506e+07</td>\n",
              "      <td>91.885714</td>\n",
              "    </tr>\n",
              "    <tr>\n",
              "      <th>2014-07-31</th>\n",
              "      <td>94.294000</td>\n",
              "      <td>95.004000</td>\n",
              "      <td>93.488000</td>\n",
              "      <td>94.470000</td>\n",
              "      <td>4.218366e+07</td>\n",
              "      <td>94.470000</td>\n",
              "    </tr>\n",
              "  </tbody>\n",
              "</table>\n",
              "<p>404 rows × 6 columns</p>\n",
              "</div>"
            ]
          },
          "metadata": {
            "tags": []
          },
          "execution_count": 103
        }
      ]
    },
    {
      "cell_type": "markdown",
      "metadata": {
        "id": "hgjslLrbhKWQ"
      },
      "source": [
        "### Step 10.  What is the difference in days between the first day and the oldest"
      ]
    },
    {
      "cell_type": "code",
      "metadata": {
        "id": "xqI-0a_-hKWR",
        "outputId": "81f63a66-54c1-4583-85d4-d085ac13b7d1",
        "colab": {
          "base_uri": "https://localhost:8080/"
        }
      },
      "source": [
        "(apple.index.max()-apple.index.min()).days"
      ],
      "execution_count": 94,
      "outputs": [
        {
          "output_type": "execute_result",
          "data": {
            "text/plain": [
              "12261"
            ]
          },
          "metadata": {
            "tags": []
          },
          "execution_count": 94
        }
      ]
    },
    {
      "cell_type": "markdown",
      "metadata": {
        "id": "BeGWDuiChKWU"
      },
      "source": [
        "### Step 11.  How many months in the data we have?"
      ]
    },
    {
      "cell_type": "code",
      "metadata": {
        "id": "cH5feCaShKWU",
        "outputId": "5d0066ba-ea83-4f55-ca2a-cf00c4efc314",
        "colab": {
          "base_uri": "https://localhost:8080/"
        }
      },
      "source": [
        "pd.DataFrame({'Year': apple.index.year, 'Month': apple.index.month}).drop_duplicates().shape[0]"
      ],
      "execution_count": 141,
      "outputs": [
        {
          "output_type": "execute_result",
          "data": {
            "text/plain": [
              "404"
            ]
          },
          "metadata": {
            "tags": []
          },
          "execution_count": 141
        }
      ]
    },
    {
      "cell_type": "markdown",
      "metadata": {
        "id": "CQRk2K3HhKWX"
      },
      "source": [
        "### Step 12. Plot the 'Adj Close' value. Set the size of the figure to 13.5 x 9 inches"
      ]
    },
    {
      "cell_type": "code",
      "metadata": {
        "id": "qrxgRevPhKWY",
        "outputId": "061debf4-8ae1-4efa-ab63-eab914cef81a",
        "colab": {
          "base_uri": "https://localhost:8080/",
          "height": 534
        }
      },
      "source": [
        "apple['Adj Close'].plot(figsize=(13.5, 9), kind='line')"
      ],
      "execution_count": 101,
      "outputs": [
        {
          "output_type": "execute_result",
          "data": {
            "text/plain": [
              "<matplotlib.axes._subplots.AxesSubplot at 0x7ff46a99d9d0>"
            ]
          },
          "metadata": {
            "tags": []
          },
          "execution_count": 101
        },
        {
          "output_type": "display_data",
          "data": {
            "image/png": "[encoded data removed]",
            "text/plain": [
              "<Figure size 972x648 with 1 Axes>"
            ]
          },
          "metadata": {
            "tags": [],
            "needs_background": "light"
          }
        }
      ]
    },
    {
      "cell_type": "markdown",
      "metadata": {
        "id": "EM22tIm9hKWa"
      },
      "source": [
        "### BONUS: Create your own question and answer it."
      ]
    },
    {
      "cell_type": "code",
      "metadata": {
        "id": "dpcL9gt-hKWb"
      },
      "source": [
        ""
      ],
      "execution_count": null,
      "outputs": []
    }
  ]
}